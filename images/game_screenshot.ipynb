{
 "cells": [
  {
   "cell_type": "code",
   "execution_count": 1,
   "metadata": {},
   "outputs": [],
   "source": [
    "import sys\n",
    "sys.path.append('../')\n",
    "\n",
    "from ppo.envs.atari import make_vec_envs\n",
    "from ppo import algo, utils\n",
    "import matplotlib.pyplot as plt\n",
    "import gym\n",
    "from IPython import display\n",
    "import torch\n",
    "import os\n",
    "\n",
    "log_dir = os.path.expanduser('/tmp/gym/')\n",
    "utils.cleanup_log_dir(log_dir)\n",
    "name = 'gvgai-missilecommand-lvl0-v0'"
   ]
  },
  {
   "cell_type": "code",
   "execution_count": 2,
   "metadata": {},
   "outputs": [
    {
     "name": "stdout",
     "output_type": "stream",
     "text": [
      "Connecting to host 127.0.0.1 at port 38603 ...\n",
      "Client connected to server [OK]\n"
     ]
    },
    {
     "data": {
      "image/png": "[encoded data removed]",
      "text/plain": [
       "<Figure size 432x288 with 1 Axes>"
      ]
     },
     "metadata": {
      "needs_background": "light"
     },
     "output_type": "display_data"
    }
   ],
   "source": [
    "env = gym.make(name)\n",
    "obs = env.reset()\n",
    "\n",
    "plt.axis('off')\n",
    "plt.imshow(obs)\n",
    "plt.savefig(name+'.png')\n",
    "\n",
    "env.close()"
   ]
  },
  {
   "cell_type": "code",
   "execution_count": 3,
   "metadata": {},
   "outputs": [
    {
     "name": "stdout",
     "output_type": "stream",
     "text": [
      "Connecting to host 127.0.0.1 at port 44811 ...\n",
      "Client connected to server [OK]\n",
      "Connecting to host 127.0.0.1 at port 38057 ...\n",
      "Client connected to server [OK]\n"
     ]
    },
    {
     "data": {
      "image/png": "[encoded data removed]",
      "text/plain": [
       "<Figure size 432x288 with 1 Axes>"
      ]
     },
     "metadata": {
      "needs_background": "light"
     },
     "output_type": "display_data"
    }
   ],
   "source": [
    "env = make_vec_envs(name, 1, 1, 0.99, '/tmp/gym/', torch.device('cpu'), False)\n",
    "obs = env.reset()\n",
    "\n",
    "plt.axis('off')\n",
    "plt.imshow(obs[0][3], cmap='gray')\n",
    "plt.savefig(name+'pp.png', bbox_inches='tight')\n",
    "\n",
    "env.close()"
   ]
  },
  {
   "cell_type": "code",
   "execution_count": null,
   "metadata": {},
   "outputs": [],
   "source": []
  }
 ],
 "metadata": {
  "kernelspec": {
   "display_name": "Python 3",
   "language": "python",
   "name": "python3"
  },
  "language_info": {
   "codemirror_mode": {
    "name": "ipython",
    "version": 3
   },
   "file_extension": ".py",
   "mimetype": "text/x-python",
   "name": "python",
   "nbconvert_exporter": "python",
   "pygments_lexer": "ipython3",
   "version": "3.6.9"
  }
 },
 "nbformat": 4,
 "nbformat_minor": 2
}
